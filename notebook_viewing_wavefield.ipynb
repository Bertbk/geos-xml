{
 "cells": [
  {
   "cell_type": "code",
   "execution_count": 1,
   "metadata": {},
   "outputs": [],
   "source": [
    "import numpy as np\n",
    "import math\n",
    "import h5py\n",
    "import scipy.ndimage as nd\n",
    "import matplotlib.pyplot as plt\n",
    "from matplotlib import rcParams\n",
    "import ipywidgets as widgets\n",
    "rcParams['font.size'] = 20\n",
    "rcParams['font.family'] = 'sans-serif'"
   ]
  },
  {
   "cell_type": "code",
   "execution_count": 3,
   "metadata": {
    "scrolled": true
   },
   "outputs": [],
   "source": [
    "f=h5py.File('pressure_history.hdf5')\n",
    "p=np.array(f['pressure_np1'])\n",
    "f.close()"
   ]
  },
  {
   "cell_type": "code",
   "execution_count": 4,
   "metadata": {},
   "outputs": [
    {
     "data": {
      "text/plain": [
       "(5, 7520000)"
      ]
     },
     "execution_count": 4,
     "metadata": {},
     "output_type": "execute_result"
    }
   ],
   "source": [
    "p.shape"
   ]
  },
  {
   "cell_type": "code",
   "execution_count": 5,
   "metadata": {},
   "outputs": [
    {
     "name": "stdout",
     "output_type": "stream",
     "text": [
      "(5, 188, 200, 200)\n"
     ]
    }
   ],
   "source": [
    "p=np.reshape(p,(5,188,200,200))\n",
    "print(p.shape)"
   ]
  },
  {
   "cell_type": "code",
   "execution_count": 6,
   "metadata": {},
   "outputs": [
    {
     "data": {
      "application/vnd.jupyter.widget-view+json": {
       "model_id": "6922c4340a6e4534a6ff61933b828862",
       "version_major": 2,
       "version_minor": 0
      },
      "text/plain": [
       "interactive(children=(IntSlider(value=2, description='it', max=4), Text(value='figure', description='output'),…"
      ]
     },
     "metadata": {},
     "output_type": "display_data"
    },
    {
     "data": {
      "text/plain": [
       "<function __main__.plotWfld(d, it, output='figure', save=False)>"
      ]
     },
     "execution_count": 6,
     "metadata": {},
     "output_type": "execute_result"
    }
   ],
   "source": [
    "%matplotlib inline\n",
    "d=p\n",
    "dt=0.002\n",
    "ix=100\n",
    "iy=100\n",
    "iz=100\n",
    "vmax=0.1\n",
    "\n",
    "nt=d.shape[0]\n",
    "nx=d.shape[1]\n",
    "ny=d.shape[2]\n",
    "nz=d.shape[3]\n",
    "ixmin=15\n",
    "ixmax=nx-1-ixmin\n",
    "iymin=15\n",
    "iymax=ny-1-iymin\n",
    "izmin=15\n",
    "izmax=nz-1-izmin\n",
    "\n",
    "def plotWfld(d,it,output=\"figure\",save=False):\n",
    "\n",
    "    time=it*dt\n",
    "    plt.figure(figsize=(16,6))\n",
    "    plt.subplot(1,3,1)\n",
    "    plt.imshow(np.transpose(d[it,ix,:,:]),vmin=-vmax,vmax=vmax,cmap='seismic')\n",
    "    #plt.hlines((izmin,izmax),iymin,iymax,LineStyle='--')\n",
    "    #plt.vlines((iymin,iymax),izmin,izmax,LineStyle='--')\n",
    "    plt.xlabel(\"Y\")\n",
    "    plt.ylabel(\"Z\")\n",
    "    plt.title(r\"X-slice @ %0.2f sec\" %time)\n",
    "\n",
    "    plt.subplot(1,3,2)\n",
    "    plt.imshow(np.transpose(d[it,:,iy,:]),vmin=-vmax,vmax=vmax,cmap='seismic')\n",
    "    #plt.hlines((izmin,izmax),ixmin,ixmax,LineStyle='--')\n",
    "    #plt.vlines((ixmin,ixmax),izmin,izmax,LineStyle='--')\n",
    "    plt.xlabel(\"X\")\n",
    "    plt.ylabel(\"Z\")\n",
    "    plt.title(r\"Y-slice @ %0.2f sec\" %time)\n",
    "\n",
    "    plt.subplot(1,3,3)\n",
    "    plt.imshow(np.transpose(d[it,:,:,iz]),vmin=-vmax,vmax=vmax,cmap='seismic')\n",
    "    #plt.hlines((iymin,iymax),ixmin,ixmax,LineStyle='--')\n",
    "    #plt.vlines((ixmin,ixmax),iymin,iymax,LineStyle='--')\n",
    "    plt.xlabel(\"X\")\n",
    "    plt.ylabel(\"Y\")\n",
    "    plt.title(r\"Z-slice @ %0.2f sec\" %time)\n",
    "\n",
    "    plt.tight_layout()\n",
    "    if save==True:\n",
    "        plt.savefig(\"./fig/\"+output+\"_%d\" %it)\n",
    "    \n",
    "widgets.interact(plotWfld, d=widgets.fixed(d), it=(0,nt-1,1))"
   ]
  },
  {
   "cell_type": "code",
   "execution_count": null,
   "metadata": {},
   "outputs": [],
   "source": []
  }
 ],
 "metadata": {
  "kernelspec": {
   "display_name": "Python 3 (ipykernel)",
   "language": "python",
   "name": "python3"
  },
  "language_info": {
   "codemirror_mode": {
    "name": "ipython",
    "version": 3
   },
   "file_extension": ".py",
   "mimetype": "text/x-python",
   "name": "python",
   "nbconvert_exporter": "python",
   "pygments_lexer": "ipython3",
   "version": "3.10.6"
  },
  "toc": {
   "base_numbering": 1,
   "nav_menu": {},
   "number_sections": true,
   "sideBar": true,
   "skip_h1_title": false,
   "title_cell": "Table of Contents",
   "title_sidebar": "Contents",
   "toc_cell": false,
   "toc_position": {},
   "toc_section_display": true,
   "toc_window_display": false
  },
  "widgets": {
   "state": {
    "1bf2edf8832644dbb39aa3d8d5a9b8d7": {
     "views": [
      {
       "cell_index": 7
      }
     ]
    },
    "9b5bfbd79cce43ca90438fd335a96666": {
     "views": [
      {
       "cell_index": 11
      }
     ]
    }
   },
   "version": "1.2.0"
  }
 },
 "nbformat": 4,
 "nbformat_minor": 4
}
